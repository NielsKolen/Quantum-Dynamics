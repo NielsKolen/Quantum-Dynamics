{
 "cells": [
  {
   "cell_type": "markdown",
   "metadata": {
    "collapsed": true
   },
   "source": [
    "# Quantum Dynamics"
   ]
  },
  {
   "cell_type": "markdown",
   "metadata": {},
   "source": [
    "In this project, we use the Crank-Nicolson method, an implicit and numerically stable finite difference method, to numerically solve the time-dependent Schrödinger equation in one and two dimensions. To this end, we have simulated a Gaussian wave packet incident on a finite potential well (in one dimension) and a plane wave incident on a double slit (in two dimensions). We will first describe how we obtained the solution to the Schrödinger equation in 1D, followed by an animation of the evolution of the wave packet in time, after which we do the same for the two dimensional case. We conclude with a plot showing the interference at the location of an imaginary screen."
   ]
  },
  {
   "cell_type": "code",
   "execution_count": 1,
   "metadata": {
    "collapsed": true
   },
   "outputs": [],
   "source": [
    "# import the different Python packages used\n",
    "\n",
    "import numpy as np\n",
    "import matplotlib.pyplot as plt\n",
    "from scipy.sparse import diags\n",
    "from scipy.sparse import spdiags\n",
    "from scipy.sparse.linalg import bicgstab\n",
    "from matplotlib import animation\n",
    "from mpl_toolkits.mplot3d import Axes3D\n",
    "import sys"
   ]
  },
  {
   "cell_type": "markdown",
   "metadata": {},
   "source": [
    "##  Crank-Nicolson method in 1D"
   ]
  },
  {
   "cell_type": "markdown",
   "metadata": {},
   "source": [
    "the Crank-Nicolson method in 1D,\n",
    "\n",
    "\n",
    "$$ i \\hbar \\frac{\\psi(x,t + \\Delta t) - \\psi(x,t)}{\\Delta t} = \\frac{\\hat{H} \\psi(x,t) + \\hat{H} \\psi(x,t + \\Delta t)}{2} $$\n",
    "\n",
    "\n",
    "can be rewritten as\n",
    "\n",
    "\n",
    "$$ \\left(\\frac{i \\hbar}{\\Delta t} - \\frac{1}{2} \\hat{H}(t + \\Delta t)\\right) \\psi(x,t+\\Delta t) = \\left(\\frac{i \\hbar}{\\Delta t} + \\frac{1}{2} \\hat{H}(t)\\right) \\psi(x,t) $$\n",
    "\n",
    "\n",
    "The time-dependent Schrödinger equation in one dimension is equal to:\n",
    "\n",
    "\n",
    "$$ \\hat{H}(t) \\psi(x,t) = \\left(- \\frac{ \\hbar^2}{2m} \\frac{\\partial^2}{\\partial x^2} + V(x,t)\\right) \\psi(x,t) $$\n",
    "\n",
    "\n",
    "and we can use the $2^{nd}$ order central difference equation to approximate the differential operator:\n",
    "\n",
    "\n",
    "$$ \\frac{\\partial^2}{\\partial x^2} \\psi(x,t) = \\frac{\\psi(x + \\Delta x,t) -2\\psi(x,t) + \\psi(x - \\Delta x)}{(\\Delta x)^2} $$\n",
    "\n",
    "\n",
    "resulting in\n",
    "\n",
    "\n",
    "$$ \\hat{H}(t) \\psi(x,t) = - \\frac{ \\hbar^2}{2m} \\left(\\frac{\\psi(x + \\Delta x,t) -2\\psi(x,t) + \\psi(x - \\Delta x,t)}{(\\Delta x)^2}\\right) + V(x,t)\\psi(x,t) $$\n",
    "\n",
    "\n",
    "If we use this equation in the Crank-Nicolson method, we obtain the following result:\n",
    "\n",
    "\n",
    "$$ \\frac{i\\hbar}{\\Delta t} \\psi(x,t+\\Delta t) -\\frac{1}{2} \\left(- \\frac{ \\hbar^2}{2m} \\left(\\frac{\\psi(x + \\Delta x,t + \\Delta t) -2\\psi(x,t + \\Delta t) + \\psi(x - \\Delta x, t + \\Delta t)}{(\\Delta x)^2}\\right) + V(x, t + \\Delta t) \\psi(x, t + \\Delta t)\\right) = \\frac{i\\hbar}{\\Delta t} \\psi(x,t) +\\frac{1}{2} \\left(- \\frac{ \\hbar^2}{2m} \\left(\\frac{\\psi(x + \\Delta x,t) -2\\psi(x,t) + \\psi(x - \\Delta x, t)}{(\\Delta x)^2}\\right) + V(x, t) \\psi(x, t)\\right)$$\n",
    "\n",
    "\n",
    "which we can rewrite to\n",
    "\n",
    "\n",
    "$$ \\frac{\\hbar^2}{4m(\\Delta x)^2} \\psi(x +\\Delta x, t+\\Delta t) + \\left(\\frac{i \\hbar}{\\Delta t} - \\frac{\\hbar^2}{2m(\\Delta x)^2} - \\frac{1}{2} V(x,t + \\Delta t)\\right) \\psi(x,t+\\Delta t) + \\frac{\\hbar^2}{4m(\\Delta x)^2} \\psi(x -\\Delta x, t+\\Delta t) = -\\frac{\\hbar^2}{4m(\\Delta x)^2} \\psi(x +\\Delta x, t) + \\left(\\frac{i \\hbar}{\\Delta t} + \\frac{\\hbar^2}{2m(\\Delta x)^2} + \\frac{1}{2} V(x,t)\\right) \\psi(x,t) -\\frac{\\hbar^2}{4m(\\Delta x)^2} \\psi(x -\\Delta x, t) $$\n",
    "\n",
    "\n",
    "To obtain a numerical solution we use the biconjugate gradient stabilized method, which solves the linear system $Ax = b$, so we have to rewrite the equation in the following format:\n",
    "\n",
    "\n",
    "$$ A\\overrightarrow{\\psi}(t + \\Delta t) = B\\overrightarrow{\\psi}(t) $$\n",
    "\n",
    "\n",
    "When we set $\\hbar = m$ equal to 1, and name the following constants $a$ and $b$:\n",
    "\n",
    "\n",
    "$$ a = \\frac{i}{\\Delta t}\\quad, \\quad b = \\frac{1}{4(\\Delta x)^2} $$\n",
    "\n",
    "\n",
    "we can construct both tridiagonal matrices and the vector which will be used to calculate the evolution of the wave function in time:\n",
    "\n",
    "$$ A = \\begin{pmatrix}\n",
    "a-2b-\\frac{1}{2}V & b & 0 \\\\\n",
    "b & a-2b-\\frac{1}{2}V & b \\\\\n",
    "0 & b & a-2b-\\frac{1}{2}V \\\\ \n",
    "0 & 0 & b & \\ddots \\\\ \n",
    "\\end{pmatrix} $$\n",
    "\n",
    "$$ B = \\begin{pmatrix}\n",
    "a+2b+\\frac{1}{2}V & -b & 0 \\\\\n",
    "-b & a+2b+\\frac{1}{2}V & -b \\\\\n",
    "0 & -b & a+2b+\\frac{1}{2}V \\\\ \n",
    "0 & 0 & -b & \\ddots \\\\ \n",
    "\\end{pmatrix} $$\n",
    "\n",
    "$$ \\overrightarrow{\\psi}(t) = \\begin{pmatrix}\n",
    "\\psi(x=x_0, t)\\\\\n",
    "\\psi(x_0 + \\Delta x,t)\\\\\n",
    "\\psi(x_0 + 2\\Delta x,t)\\\\\n",
    "\\psi(x_0 + 3\\Delta x,t)\\\\\n",
    "\\vdots\\\\\n",
    "\\end{pmatrix} $$\n"
   ]
  },
  {
   "cell_type": "markdown",
   "metadata": {},
   "source": [
    "## Gaussian wave packet incident on a finite potential well"
   ]
  },
  {
   "cell_type": "markdown",
   "metadata": {},
   "source": [
    "In this part of the project, we simulate a Gaussian wave packet incident on a finite potential well, making use of the Crank-Nicolson method and the biconjugate gradient stabilized method described above. This is visualised using a 2D animation."
   ]
  },
  {
   "cell_type": "code",
   "execution_count": 2,
   "metadata": {
    "collapsed": false
   },
   "outputs": [],
   "source": [
    "# initialise the parameters used for the 1D case\n",
    "\n",
    "def initialise_1D():\n",
    "    global N, L, x, dx, dt, x0, sig, k, V0, a\n",
    "    N = 1001  # number of gridpoints on the x-asis\n",
    "    L = 100.   # space length of the simulation\n",
    "    x = np.linspace(0, L, N)  \n",
    "    dx = x[1]-x[0]  # grid spacing\n",
    "    dt = 0.05  # time step\n",
    "    x0 = 10.  # initial position of the center of the wave packet\n",
    "    sig = 3.  # wave packet width\n",
    "    k = 3.  # wave number\n",
    "    V0 = 5 # potential height\n",
    "    a = 10.  # width of the barrier\n",
    "    "
   ]
  },
  {
   "cell_type": "code",
   "execution_count": 3,
   "metadata": {
    "collapsed": false
   },
   "outputs": [],
   "source": [
    "# construct a Gaussian wave packet with its center at x0, momentum k and width sig\n",
    "def Gaussian_wave_packet(sig, x, x0, k,dx):\n",
    "    psi = np.exp(-(x-x0)**2/(2*sig**2)) * np.exp(1.j*k*x)\n",
    "    psi /= np.sqrt(sum(abs(psi)**2*dx)) \n",
    "    return psi\n",
    "\n",
    "# construct a potential well\n",
    "def potential_well(V0, x, L, a):\n",
    "    V = V0*(abs(x-L/2.) < a/2)\n",
    "    return V\n"
   ]
  },
  {
   "cell_type": "code",
   "execution_count": 4,
   "metadata": {
    "collapsed": false
   },
   "outputs": [],
   "source": [
    "# Calculate the tridiagonal matrices A and B used in the BiCGSTAB method\n",
    "def calculate_AB_1D(dt, dx, V):\n",
    "    \n",
    "    # define the constants a and b\n",
    "    a = 1.j/dt\n",
    "    b = 1/(4*dx**2)\n",
    "    \n",
    "    # construct the sparse matrices A and B\n",
    "    A = diags([b, a-2*b-0.5*V, b], [-1, 0, 1], shape=(N, N))\n",
    "    B = diags([-b, a+2*b+0.5*V, -b], [-1, 0, 1], shape=(N, N))\n",
    "    return A, B\n",
    "\n",
    "# calculate the wave function for the next time step using the BiCGSTAB method\n",
    "def propagate_1D():\n",
    "    global psi\n",
    "    psi = bicgstab(A, B*psi, x0 = psi)[0]"
   ]
  },
  {
   "cell_type": "code",
   "execution_count": 5,
   "metadata": {
    "collapsed": false
   },
   "outputs": [],
   "source": [
    "# define the functions used for the animation\n",
    "\n",
    "# creating the base frame for the animation\n",
    "def init_1D():\n",
    "    psi_line.set_data([],[])\n",
    "    V_line.set_data([],[])\n",
    "    return psi_line, V_line,\n",
    "\n",
    "# construct the animation function\n",
    "def animate_1D(f):\n",
    "    propagate_1D()\n",
    "    psi_line.set_data(x, abs(psi))\n",
    "    V_line.set_data(x, V)\n",
    "    return psi_line, V_line,\n",
    "    "
   ]
  },
  {
   "cell_type": "code",
   "execution_count": 6,
   "metadata": {
    "collapsed": false
   },
   "outputs": [],
   "source": [
    "# running the animation\n",
    "\n",
    "initialise_1D()\n",
    "fig = plt.figure()\n",
    "ax = plt.axes(xlim=(0, 100), ylim=(-0.5, 0.5))\n",
    "psi_line, = ax.plot([],[])\n",
    "V_line, = ax.plot([],[])  \n",
    "V = np.vectorize(potential_well)(V0, x, L, a)  # vectorise the potential so that it can be used to construct the sparse matrices\n",
    "A, B = calculate_AB_1D(dt, dx, V)\n",
    "psi = Gaussian_wave_packet(sig, x, x0, k, dx)\n",
    "\n",
    "ax.set_title(\"Propagation of a Gaussian wave packet incident on a finite potential well\")\n",
    "ax.set_xlabel(\"$x$\")\n",
    "ax.set_ylabel(\"$\\psi(x)$\")\n",
    "\n",
    "anim = animation.FuncAnimation(fig, animate_1D, frames=2000, interval=20, blit=True, init_func=init_1D, repeat=False)\n",
    "\n",
    "plt.show()\n"
   ]
  },
  {
   "cell_type": "code",
   "execution_count": 10,
   "metadata": {
    "collapsed": false
   },
   "outputs": [],
   "source": [
    "# Define the functions for running the animation for the transmission\n",
    "\n",
    "# Energy of the wave\n",
    "E = np.linspace(0.5, 5.0, 20)\n",
    "\n",
    "# Array with zeros to fill up with values for the transmission\n",
    "T = np.zeros(len(E))\n",
    "\n",
    "# Creating the base frame for the animation\n",
    "def init_ani_trans(psi, x, V, V0):\n",
    "    fig, ax = plt.subplots()\n",
    "    plt.plot(x, 1.5*max(abs(psi)**2)*V/V0, 'r')\n",
    "    ims = []  # list for storing all of the created artists\n",
    "\n",
    "    return fig, ax, ims\n",
    "\n",
    "# Design to plot the transmission\n",
    "def plot_transmission(E, T):\n",
    "    plt.figure()\n",
    "    plt.title(\"Transmission of a gaussian wave packet through a potential barrier\")\n",
    "    plt.xlabel('Energy')\n",
    "    plt.ylabel('Transmission')\n",
    "    plt.axis((0, np.max(E), 0, 1.1))\n",
    "    plt.plot(E, T)\n",
    "\n",
    "    plt.show()"
   ]
  },
  {
   "cell_type": "code",
   "execution_count": 11,
   "metadata": {
    "collapsed": false
   },
   "outputs": [],
   "source": [
    "# The function for the Transmission\n",
    "\n",
    "# Creating a function to calculate the transmission coefficient\n",
    "def CrankNicolson(A, B, x, psi, a, L, dx, ims=None):\n",
    "    \n",
    "    y = 2*np.max(abs(psi))**2       #max heigth\n",
    "    C = CN = i = 0                  #start value\n",
    "    while CN>=C or C<10e-6:         #norm in the barrier\n",
    "        C = CN\n",
    "        if ims!=None and i%4==0:\n",
    "            plt.axis((0,L,0,y))\n",
    "            im, = plt.plot(x, np.abs(psi)**2, 'b')\n",
    "            ims.append([im])  # add the image to the list of artists\n",
    "            \n",
    "        [psi, error] = bicgstab(A, B*psi, x0=psi)\n",
    "        if error != 0: sys.exit(\"Bicgstab did not converge\") # error if the bicgstab function does not converge\n",
    "            \n",
    "        i = i+1\n",
    "        \n",
    "        CN = sum(abs(psi[int(round((L - a)/(2*dx))):int(round((L + a)/(2*dx)))])**2)*dx # New norm\n",
    "    \n",
    "    return psi, sum(abs(psi[int(round((L - a)/(2*dx))):])**2)*dx / (sum(abs(psi)**2)*dx)\n",
    "\n",
    "# Loop to simulate the Gaussian wave for different k-values and thus different transmission coefficients\n",
    "for i,k in enumerate(np.sqrt(2*E*V0)):\n",
    "    \n",
    "    psi = Gaussian_wave_packet(sig, x, (L-a)/2. - 3*sig, k, dx)\n",
    "    \n",
    "    A,B = calculate_AB_1D(dt, dx, V)\n",
    "    \n",
    "    if False:\n",
    "        fig, ax, ims = init_ani_transmission(psi, x, V, V0)\n",
    "        psi, T[i] = CrankNicolson(A, B, x, psi, a, L, dx, ims)\n",
    "        \n",
    "\n",
    "        im_ani = animation.ArtistAnimation(fig, ims, interval=10, repeat_delay=500, blit=True)\n",
    "        plt.show\n",
    "    else:\n",
    "        psi, T[i] = CrankNicolson(A, B, x, psi, a, L, dx)\n",
    "    \n",
    "\n",
    "if True: plot_transmission(E, T)"
   ]
  },
  {
   "cell_type": "code",
   "execution_count": null,
   "metadata": {
    "collapsed": false
   },
   "outputs": [],
   "source": []
  },
  {
   "cell_type": "markdown",
   "metadata": {
    "collapsed": true
   },
   "source": [
    "## Crank-Nicolson method in 2D"
   ]
  },
  {
   "cell_type": "markdown",
   "metadata": {},
   "source": [
    "The Crank-Nicolson method in 2D is\n",
    "\n",
    "\n",
    "$$ \\left(\\frac{i \\hbar}{\\Delta t} - \\frac{1}{2}\\hat{H}(t+\\Delta t)\\right) \\psi(x,y,t+\\Delta t) = \\left(\\frac{i \\hbar}{\\Delta t} + \\frac{1}{2}\\hat{H}(t)\\right) \\psi(x,y,t) $$\n",
    "\n",
    "\n",
    "and the time-dependent Schrödinger equation in 2D combined with the $2^{nd}$ order central difference equation leads to the following equation:\n",
    "\n",
    "\n",
    "$$ \\hat{H}(t) \\psi(x,y,t) = - \\frac{ \\hbar^2}{2m} \\left(\\frac{\\psi(x + \\Delta x,y,t) -2\\psi(x,y,t) + \\psi(x - \\Delta x,y,t)}{(\\Delta x)^2} + \\frac{\\psi(x,y+\\Delta y,t) -2\\psi(x,y,t) + \\psi(x,y-\\Delta y,t)}{(\\Delta y)^2}\\right) + V(x,y,t)\\psi(x,y,t) $$\n",
    "\n",
    "\n",
    "If we combine the two and use again the same constants $a$ and $b$ as in the 1D method, and use the fact that we choose the same gridspacing for x and y, we end up with the following:\n",
    "\n",
    "\n",
    "$$ b\\psi(x+\\Delta x,y,t+\\Delta t) + \\left(a-4b-\\frac{1}{2}V(x,y,t+\\Delta t)\\right)\\psi(x,y,t+\\Delta t) + b\\psi(x-\\Delta x,y,t+\\Delta t) + b\\psi(x,y+\\Delta y,t+\\Delta t) + b\\psi(x,y-\\Delta y,t+\\Delta t) = -b\\psi(x+\\Delta x,y,t) + \\left(a+4b+\\frac{1}{2}V(x,y,t)\\right)\\psi(x,y,t) -b\\psi(x-\\Delta x,y,t) - b\\psi(x,y+\\Delta y, t) - b\\psi(x,y - \\Delta y,t) $$\n",
    "\n",
    "\n",
    "which we again have to rewrite in the format\n",
    "\n",
    "\n",
    "$$ A\\overrightarrow{\\psi}(t + \\Delta t) = B\\overrightarrow{\\psi}(t) $$\n",
    "\n",
    "\n",
    "We now construct both matrices and the vector which will be used to calculate the evolution of the wave function in time. both outer most diagonals are situated at a distance N from the main diagonal, and to prevent the inclusion of coordinates (x,y) outside of the interval, the first of every N values in the off-diagonals is set to zero.\n",
    "\n",
    "\n",
    "$$ A = \\begin{pmatrix}\n",
    "\\ddots & b & 0 & 0 & 0 & \\cdots & b & a-4b-\\frac{1}{2}V & b & 0 & \\cdots & b & 0 & 0 & 0 & \\ddots \\\\\n",
    "\\ddots & 0 & b & 0 & 0 & \\cdots & 0 & b & a-2b-\\frac{1}{2}V & b & \\cdots & 0 & b & 0 & 0 & \\ddots \\\\\n",
    "\\ddots & 0 & 0 & b & 0 & \\cdots & 0 & 0 & b & a-2b-\\frac{1}{2}V & \\cdots & 0 & 0 & b & 0 & \\ddots \\\\ \n",
    "\\ddots & 0 & 0 & 0 & b & \\cdots & 0 & 0 & 0 & b & \\cdots & 0 & 0 & 0 & b & \\ddots\\\\ \n",
    "\\end{pmatrix} $$\n",
    "\n",
    "\n",
    "$$ B = \\begin{pmatrix}\n",
    "\\ddots & -b & 0 & 0 & 0 & \\cdots & -b & a+4b+\\frac{1}{2}V & -b & 0 & \\cdots & -b & 0 & 0 & 0 & \\ddots \\\\\n",
    "\\ddots & 0 & -b & 0 & 0 & \\cdots & 0 & -b & a+2b+\\frac{1}{2}V & -b & \\cdots & 0 & -b & 0 & 0 & \\ddots \\\\\n",
    "\\ddots & 0 & 0 & -b & 0 & \\cdots & 0 & 0 & -b & a+2b+\\frac{1}{2}V & \\cdots & 0 & 0 & -b & 0 & \\ddots \\\\ \n",
    "\\ddots & 0 & 0 & 0 & -b & \\cdots & 0 & 0 & 0 & -b & \\cdots & 0 & 0 & 0 & -b & \\ddots\\\\ \n",
    "\\end{pmatrix} $$\n",
    "\n",
    "\n",
    "$$ \\overrightarrow{\\psi}(t) = \\begin{pmatrix}\n",
    "\\psi(x=x_0,y=y_0,t)\\\\\n",
    "\\psi(x_0 + \\Delta x,y_0,t)\\\\\n",
    "\\psi(x_0 + 2\\Delta x,y_0,t)\\\\\n",
    "\\psi(x_0 + 3\\Delta x,y_0,t)\\\\\n",
    "\\vdots\\\\\n",
    "\\psi(x_0 + N\\Delta x,y_0,t)\\\\\n",
    "\\psi(x_0,y_0 + \\Delta y,t)\\\\\n",
    "\\psi(x_0 +\\Delta x, y_0 + \\Delta y,t)\\\\\n",
    "\\vdots\\\\\n",
    "\\end{pmatrix} $$\n",
    "\n"
   ]
  },
  {
   "cell_type": "markdown",
   "metadata": {},
   "source": [
    "## Plane wave incident on a double slit"
   ]
  },
  {
   "cell_type": "markdown",
   "metadata": {},
   "source": [
    "In this part of the project, we simulate a plane wave incident on a double slit, making use of the Crank-Nicolson method and the biconjugate gradient stabilized method described above. The wave propagation is visualised using a 3D animation, and the interference pattern on an imaginary screen is plotted."
   ]
  },
  {
   "cell_type": "code",
   "execution_count": 89,
   "metadata": {
    "collapsed": false
   },
   "outputs": [],
   "source": [
    "# initialise the parameters used for the 2D case\n",
    "\n",
    "def initialise_2D():\n",
    "    global N, x, y, dx, dt, k, V, slx, sly, d, xpos, ypos, steps, interference\n",
    "    N = 100  # number of gridpoints on each axis\n",
    "    x = np.linspace(0, 100, N)\n",
    "    dx = x[1]-x[0]  # spacing between two grid points\n",
    "    y = x\n",
    "    x, y = np.meshgrid(x, y)\n",
    "    dt = 0.05  # time step\n",
    "    k = 5  # wave number\n",
    "\n",
    "    V = np.zeros((N, N))  # matrix to hold the potential values\n",
    "    slx = 2  # horizontal slit length\n",
    "    sly = 4  # vertical slit length\n",
    "    d = 20  # slit separation distance\n",
    "    xpos = 40  # x-location of the potential barrier\n",
    "    ypos = 36  # y-location of the upper slit\n",
    "    \n",
    "    steps = 2000  # number of times wave function is evaluated in time in order to plot the interference pattern\n",
    "    interference = np.zeros((N,steps))  # matrix to hold all ... at the location of the imaginary screen at each time step\n",
    "    "
   ]
  },
  {
   "cell_type": "code",
   "execution_count": 90,
   "metadata": {
    "collapsed": true
   },
   "outputs": [],
   "source": [
    "# construct a plane wave with momentum k\n",
    "def plane_wave(x, k):\n",
    "    psi = np.exp(-x*(1 + 1.j*k))\n",
    "    return psi\n",
    "\n",
    "# construct a double slit potential with high barriers to ensure total reflection\n",
    "def double_slit_potential(V, slx, sly, d):\n",
    "    V[0:(ypos//dx),(xpos//dx):((xpos+slx)//dx)] = 1e5\n",
    "    V[((ypos+sly)//dx):((ypos+sly+d)//dx),(xpos//dx):((xpos+slx)//dx)] = 1e5\n",
    "    V[((ypos+2*sly+d)//dx):(N+1),(xpos//dx):((xpos+slx)//dx)] = 1e5\n",
    "    return V   \n",
    "    "
   ]
  },
  {
   "cell_type": "code",
   "execution_count": 91,
   "metadata": {
    "collapsed": false
   },
   "outputs": [],
   "source": [
    "# calculate the matrices A and B used in the BiCGSTAB method\n",
    "# we have to use a different method for constructing the sparse matrices because not all values within each diagonal are the same\n",
    "# We first construct arrays with zeros only, and then fill them with the correct values\n",
    "\n",
    "def calculate_AB_2D(dt, dx, V):\n",
    "    \n",
    "    # define the constants a and b\n",
    "    a = 1.j/dt\n",
    "    b = 1/(4*dx**2)\n",
    "    \n",
    "    A_diag = np.zeros(N**2, dtype=complex)\n",
    "    A_off_diag = np.zeros(N**2, dtype=complex)\n",
    "    B_diag = np.zeros(N**2, dtype=complex)\n",
    "    B_off_diag = np.zeros(N**2, dtype=complex)\n",
    "    \n",
    "    A_diag.fill(a-4*b)\n",
    "    A_diag -= 0.5*V\n",
    "    A_off_diag.fill(b)\n",
    "    B_diag.fill(a+4*b)\n",
    "    B_diag += 0.5*V\n",
    "    B_off_diag.fill(-b)\n",
    "    A_off_diag[::N]=0; B_off_diag[::N]=0  # ensures that the first of each N values within the string are zero\n",
    "    \n",
    "    # construct the sparse matrices A and B\n",
    "    A = spdiags([A_off_diag, A_off_diag, A_diag, A_off_diag, A_off_diag], [-N, -1, 0, 1, N], N**2, N**2)\n",
    "    B = spdiags([B_off_diag, B_off_diag, B_diag, B_off_diag, B_off_diag], [-N, -1, 0, 1, N], N**2, N**2)\n",
    "    return A, B\n",
    "              \n",
    "# calculate the wave function for the next time step using the BiCGSTAB method\n",
    "def propagate_2D():\n",
    "    global psi\n",
    "    psi = bicgstab(A, B*psi, x0 = psi)[0]\n"
   ]
  },
  {
   "cell_type": "code",
   "execution_count": 92,
   "metadata": {
    "collapsed": false
   },
   "outputs": [],
   "source": [
    "# define the functions used for the animation\n",
    "\n",
    "# creating the base frame for the animation\n",
    "def init_2D():\n",
    "    im.set_data([[]])\n",
    "    return im\n",
    "\n",
    "# construct the animation function\n",
    "def animate_2D(f):\n",
    "    propagate_2D()\n",
    "    im.set_data(abs(np.reshape(psi, (N,N))))\n",
    "    return im\n",
    "    "
   ]
  },
  {
   "cell_type": "code",
   "execution_count": 93,
   "metadata": {
    "collapsed": false
   },
   "outputs": [
    {
     "name": "stderr",
     "output_type": "stream",
     "text": [
      "C:\\Users\\Stefani\\Anaconda3\\lib\\site-packages\\ipykernel\\__main__.py:8: DeprecationWarning: using a non-integer number instead of an integer will result in an error in the future\n",
      "C:\\Users\\Stefani\\Anaconda3\\lib\\site-packages\\ipykernel\\__main__.py:9: DeprecationWarning: using a non-integer number instead of an integer will result in an error in the future\n",
      "C:\\Users\\Stefani\\Anaconda3\\lib\\site-packages\\ipykernel\\__main__.py:10: DeprecationWarning: using a non-integer number instead of an integer will result in an error in the future\n"
     ]
    }
   ],
   "source": [
    "# running the animation and plotting the interference pattern\n",
    "\n",
    "initialise_2D()\n",
    "V = double_slit_potential(V, slx, sly, d)\n",
    "V = np.reshape(V, -1)  # reshape the matrix into an array to be used for calculating the sparse matrices\n",
    "A, B = calculate_AB_2D(dt, dx, V)\n",
    "psi = plane_wave(x, k)\n",
    "psi = np.reshape(psi, -1)  # reshape the matrix into an array to be used in the BiCGSTAB method\n",
    "\n",
    "fig = plt.figure()\n",
    "ax = plt.axes(xlim=(0, 100), ylim=(100, 0))\n",
    "im = ax.imshow(abs(np.reshape(psi, (N,N))), cmap=\"jet\", vmin=0, vmax=abs(psi).max())\n",
    "\n",
    "ax.set_title(\"Propagation of a plane wave incident on a double slit\")\n",
    "ax.set_xlabel(\"$x$\")\n",
    "ax.set_ylabel(\"$y$\")\n",
    "\n",
    "anim = animation.FuncAnimation(fig, animate_2D, frames=2300, init_func=init_2D, interval=20, repeat=False)\n",
    "                              \n",
    "plt.show()\n",
    "\n",
    "# interference pattern\n",
    "\n",
    "psi = plane_wave(x, k)\n",
    "interference[:,0] = abs(psi)[:,75]  # saving the values of the wave function at the location of the screen\n",
    "psi = np.reshape(psi, -1)\n",
    "\n",
    "for i in range(1,steps):\n",
    "    propagate_2D()\n",
    "    interference[:,i] = abs(np.reshape(psi, (N,N)))[:,75]\n",
    "\n",
    "plt.plot(y[:,0], np.sum(interference, axis=1))  # summing to obtain the pattern\n",
    "plt.xlabel('y')\n",
    "plt.ylabel('$ \\sum_{i=1}^{%g} |\\psi(75,y,i\\Delta t)| $'%(steps))\n",
    "plt.title('Accumulated interference pattern')\n",
    "plt.show()\n"
   ]
  },
  {
   "cell_type": "code",
   "execution_count": 12,
   "metadata": {
    "collapsed": false
   },
   "outputs": [],
   "source": []
  }
 ],
 "metadata": {
  "kernelspec": {
   "display_name": "Python 3",
   "language": "python",
   "name": "python3"
  },
  "language_info": {
   "codemirror_mode": {
    "name": "ipython",
    "version": 3
   },
   "file_extension": ".py",
   "mimetype": "text/x-python",
   "name": "python",
   "nbconvert_exporter": "python",
   "pygments_lexer": "ipython3",
   "version": "3.5.1"
  }
 },
 "nbformat": 4,
 "nbformat_minor": 0
}
